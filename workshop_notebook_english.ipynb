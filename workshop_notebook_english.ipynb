{
 "cells": [
  {
   "cell_type": "markdown",
   "source": [
    "# Jupyter notebook for the Studienfonds 💡"
   ],
   "metadata": {
    "id": "AT1aXz31UMkA"
   }
  },
  {
   "cell_type": "markdown",
   "source": [
    "## Structure\n",
    "\n",
    "This jupyter notebook has four code cells. The first one defines\n",
    "functions that can be used by you during the whole process of the workshop.\n",
    "You can modify them as you like, but for simplicity reasons i recomend you to\n",
    "keep those functions as they are.\n",
    "\n",
    "The second code cell contains the training logic, during this workshop,\n",
    "you will be training lots of neural networks with different architectures.\n",
    "You can just copy this cell down to another new cell and replace every model_1 occurence in this cell with model_2, the next one with model_3 etc.\n",
    "\n",
    "The third cell contains the cell that evaluates the model for you and gives you all evaluation metrics you need. These contain the plotted history as seen in the presentation and two confusion matrices, one for the train data, and one for the test data. Also for this cell, you can copy and paste it below your model.\n",
    "\n",
    "The fourth code cell contains logic for plotting random images, with their true label and the predicted label. It can be executed multiple times for a single model, so you can see perhaps why images get \"confused\" with other labels.\n",
    "Copy this code cell also to your model you want to use it on."
   ],
   "metadata": {
    "id": "-TlRSrwdUIi4"
   }
  },
  {
   "cell_type": "code",
   "execution_count": null,
   "metadata": {
    "id": "9_hoQzD66QVX"
   },
   "outputs": [],
   "source": [
    "import tensorflow as tf\n",
    "from tensorflow.keras.datasets import fashion_mnist\n",
    "import itertools\n",
    "from sklearn.metrics import confusion_matrix, ConfusionMatrixDisplay\n",
    "import random\n",
    "import matplotlib.pyplot as plt\n",
    "\n",
    "# load necessary train and test data\n",
    "\n",
    "(train_data, train_labels), (test_data, test_labels) = fashion_mnist.load_data()\n",
    "class_names = [\"T-shirt/top\",\"Trousers\",\"Pullover\",\"Dress\",\"Coat\",\"Sandal\",\"Shirt\",\"Sneaker\",\"Bag\",\"Ankle boot\"]\n",
    "\n",
    "# Helper functions that can and should be used:\n",
    "\n",
    "\n",
    "def plot_random_images():\n",
    "  plt.figure(figsize=(7,7))\n",
    "  for i in range(4):\n",
    "    ax = plt.subplot(2, 2, i+1)\n",
    "    rand_index = random.choice(range(len(train_data)))\n",
    "    plt.imshow(train_data[rand_index], cmap=plt.cm.binary)\n",
    "    plt.title(class_names[train_labels[rand_index]])\n",
    "    plt.axis(False)\n",
    "  return\n",
    "\n",
    "import pandas as pd\n",
    "\n",
    "def plot_history(history, plot_title):\n",
    "  pd.DataFrame(history.history).plot(title=plot_title)\n",
    "\n",
    "def plot_confusion_matrix(y_true, y_pred, labels, train_test_label,  modelname, figsize=(10,10)):\n",
    "  cm = confusion_matrix(y_true, y_pred)\n",
    "  cm_plot = ConfusionMatrixDisplay(confusion_matrix=cm, display_labels=labels)\n",
    "  fig, ax = plt.subplots(figsize=figsize)\n",
    "  plt.title(\"Confusion matrix of \" + train_test_label + \", Model-Name: \" + modelname)\n",
    "  cm_plot.plot(ax=ax)\n",
    "  plt.xticks(rotation=90)\n",
    "  plt.yticks(rotation=0)\n",
    "  plt.show()\n",
    "  return\n",
    "\n",
    "def make_predictions(model, data):\n",
    "  y_probs = model.predict(data)\n",
    "  y_pred = tf.argmax(y_probs, axis=1)\n",
    "  return y_pred\n",
    "\n",
    "def evaluate_model_full(model, train_data, train_labels, test_data, test_labels, history, modelname):\n",
    "  print(f\"Evaluating Model {modelname}\")\n",
    "\n",
    "  train_loss, train_acc = model.evaluate(train_data, train_labels)\n",
    "  test_loss, test_acc = model.evaluate(test_data, test_labels)\n",
    "  print(f\"Train loss: {train_loss}\\nTrain accuracy: {train_acc}\\nTest loss: {test_loss}\\nTest accuracy: {test_acc}\")\n",
    "\n",
    "  plot_history(history, f\"History of Training {modelname}\")\n",
    "\n",
    "  y_pred_test = make_predictions(model, test_data)\n",
    "  y_pred_train = make_predictions(model, train_data)\n",
    "\n",
    "  plot_confusion_matrix(test_labels, y_pred_test, class_names, \"Test-Data\", modelname)\n",
    "  plot_confusion_matrix(train_labels, y_pred_train, class_names, \"Train-Data\", modelname)\n",
    "  return\n",
    "\n",
    "def plot_random_image_with_predictions(images, predicted_labels, true_labels, class_names):\n",
    "  i = random.randint(0, min(len(images), len(predicted_labels)) - 1)\n",
    "\n",
    "  target_image = images[i]\n",
    "  predicted_label = predicted_labels[i]\n",
    "  true_label = true_labels[i]\n",
    "\n",
    "  predicted_label = class_names[predicted_label]\n",
    "  true_label = class_names[true_label]\n",
    "\n",
    "  plt.figure()\n",
    "  plt.imshow(target_image, cmap=plt.cm.binary)\n",
    "\n",
    "  if predicted_label == true_label:\n",
    "    color = \"green\"\n",
    "  else:\n",
    "    color = \"red\"\n",
    "\n",
    "  plt.title(f\"Predicted: {predicted_label}\\nTrue: {true_label}\", color=color)\n",
    "  plt.axis(False)\n",
    "  return"
   ]
  },
  {
   "cell_type": "markdown",
   "source": [
    "**Ideas for improving your model's performance:**\n",
    "\n",
    "- Adding Image Normalisation layers (1.0 / 255.0)\n",
    "- Adding more layers\n",
    "- Adding more neurons to your layers\n",
    "- dropout layers\n",
    "- Increase the amount of epochs\n",
    "- try different optimizers\n",
    "- increase / decrease learning rate\n",
    "- ...\n",
    "\n",
    "If you want to, have a look at the <a target=\"_blank\" rel=\"noreferrer noopener\" href=\"https://www.tensorflow.org/api_docs/python/tf/all_symbols\">TensorFlow-Docs</a>."
   ],
   "metadata": {
    "id": "SQogy6RIP1gO"
   }
  },
  {
   "cell_type": "code",
   "source": [
    "# cell with your model, copy/paste this cell and adjust your model, do not forget to rename your variables :)\n",
    "\n",
    "model_1 = tf.keras.Sequential([\n",
    "    tf.keras.layers.Flatten(input_shape=(28,28)),\n",
    "    tf.keras.layers.Dense(4, activation=\"relu\"),\n",
    "    tf.keras.layers.Dense(4, activation=\"relu\"),\n",
    "    tf.keras.layers.Dense(len(class_names), activation=\"softmax\")\n",
    "])\n",
    "\n",
    "model_1.compile(\n",
    "    loss=tf.keras.losses.SparseCategoricalCrossentropy(),\n",
    "    optimizer=tf.keras.optimizers.Adam(learning_rate=0.001),\n",
    "    metrics=[\"accuracy\"]\n",
    ")\n",
    "\n",
    "model_1_history = model_1.fit(train_data, train_labels, epochs=20, validation_data=(test_data,test_labels))"
   ],
   "metadata": {
    "id": "Isn4FjH2JGu2"
   },
   "execution_count": null,
   "outputs": []
  },
  {
   "cell_type": "code",
   "source": [
    "# call this function to get all model metrics necessary, copy below your model code\n",
    "evaluate_model_full(model_1, train_data, train_labels, test_data, test_labels, model_1_history, \"model_1\")"
   ],
   "metadata": {
    "id": "6cHFSNfwPzbr"
   },
   "execution_count": null,
   "outputs": []
  },
  {
   "cell_type": "code",
   "source": [
    "# Plot random images => cell can be executed multiple times, copy below your model code\n",
    "\n",
    "model_1_predicted_labels = make_predictions(model_1, test_data)\n",
    "plot_random_image_with_predictions(test_data, model_1_predicted_labels, test_labels, class_names)"
   ],
   "metadata": {
    "id": "oa6RyFAvQkmw"
   },
   "execution_count": null,
   "outputs": []
  }
 ],
 "metadata": {
  "accelerator": "GPU",
  "colab": {
   "gpuType": "T4",
   "provenance": []
  },
  "kernelspec": {
   "display_name": "Python 3 (ipykernel)",
   "language": "python",
   "name": "python3"
  },
  "language_info": {
   "codemirror_mode": {
    "name": "ipython",
    "version": 3
   },
   "file_extension": ".py",
   "mimetype": "text/x-python",
   "name": "python",
   "nbconvert_exporter": "python",
   "pygments_lexer": "ipython3",
   "version": "3.10.12"
  }
 },
 "nbformat": 4,
 "nbformat_minor": 0
}
