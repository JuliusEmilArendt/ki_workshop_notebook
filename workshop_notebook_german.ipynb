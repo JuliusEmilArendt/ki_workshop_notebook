{
  "cells": [
    {
      "cell_type": "markdown",
      "source": [
        "# Jupyter Notebook für den Studienfonds 💡"
      ],
      "metadata": {
        "id": "AT1aXz31UMkA"
      }
    },
    {
      "cell_type": "markdown",
      "source": [
        "## Struktur\n",
        "\n",
        "Dieses Jupyter-Notebook enthält vier Codezellen.\n",
        "Die erste Codezelle definiert Funktionen, die du während des gesamten Workshops verwenden kannst. Du kannst sie nach Belieben ändern, aber aus Gründen der Einfachheit empfehle ich dir, diese Funktionen so zu belassen, wie sie sind.\n",
        "\n",
        "Die zweite Codezelle enthält die Trainingslogik. Während dieses Workshops wirst du viele neuronale Netzwerke mit unterschiedlichen Architekturen trainieren. Du kannst diese Zelle einfach in eine neue Zelle kopieren und jede Vorkommen von model_1 in dieser Zelle durch model_2 ersetzen, dann im nächsten Modell durch model_3 usw.\n",
        "\n",
        "Die dritte Codezelle enthält die Logik zur Bewertung des Modells und liefert dir alle benötigten Evaluationsmetriken. Dazu gehören die geplottete Verlaufskurve, wie in der Präsentation gezeigt, sowie zwei Konfusionsmatrizen – eine für die Trainingsdaten und eine für die Testdaten. Auch diese Zelle kannst du kopieren und unter dein Modell einfügen.\n",
        "\n",
        "Die vierte Codezelle enthält die Logik zum Plotten zufälliger Bilder mit ihren wahren und vorhergesagten Labels. Sie kann mehrfach für ein einzelnes Modell ausgeführt werden, sodass du möglicherweise erkennen kannst, warum Bilder mit anderen Labels verwechselt werden. Kopiere auch diese Codezelle in das Modell, für das du sie verwenden möchtest."
      ],
      "metadata": {
        "id": "-TlRSrwdUIi4"
      }
    },
    {
      "cell_type": "code",
      "execution_count": null,
      "metadata": {
        "id": "9_hoQzD66QVX"
      },
      "outputs": [],
      "source": [
        "import tensorflow as tf\n",
        "from tensorflow.keras.datasets import fashion_mnist\n",
        "import itertools\n",
        "from sklearn.metrics import confusion_matrix, ConfusionMatrixDisplay\n",
        "import random\n",
        "import matplotlib.pyplot as plt\n",
        "\n",
        "# Laden der Trainingsdaten\n",
        "\n",
        "(train_data, train_labels), (test_data, test_labels) = fashion_mnist.load_data()\n",
        "class_names = [\"T-shirt/top\",\"Trousers\",\"Pullover\",\"Dress\",\"Coat\",\"Sandal\",\"Shirt\",\"Sneaker\",\"Bag\",\"Ankle boot\"]\n",
        "\n",
        "# Hilfsfunktionen, welche benutzt werden sollen:\n",
        "\n",
        "\n",
        "def plot_random_images():\n",
        "  plt.figure(figsize=(7,7))\n",
        "  for i in range(4):\n",
        "    ax = plt.subplot(2, 2, i+1)\n",
        "    rand_index = random.choice(range(len(train_data)))\n",
        "    plt.imshow(train_data[rand_index], cmap=plt.cm.binary)\n",
        "    plt.title(class_names[train_labels[rand_index]])\n",
        "    plt.axis(False)\n",
        "  return\n",
        "\n",
        "import pandas as pd\n",
        "\n",
        "def plot_history(history, plot_title):\n",
        "  pd.DataFrame(history.history).plot(title=plot_title)\n",
        "\n",
        "def plot_confusion_matrix(y_true, y_pred, labels, train_test_label,  modelname, figsize=(10,10)):\n",
        "  cm = confusion_matrix(y_true, y_pred)\n",
        "  cm_plot = ConfusionMatrixDisplay(confusion_matrix=cm, display_labels=labels)\n",
        "  fig, ax = plt.subplots(figsize=figsize)\n",
        "  plt.title(\"Confusion matrix of \" + train_test_label + \", Model-Name: \" + modelname)\n",
        "  cm_plot.plot(ax=ax)\n",
        "  plt.xticks(rotation=90)\n",
        "  plt.yticks(rotation=0)\n",
        "  plt.show()\n",
        "  return\n",
        "\n",
        "def make_predictions(model, data):\n",
        "  y_probs = model.predict(data)\n",
        "  y_pred = tf.argmax(y_probs, axis=1)\n",
        "  return y_pred\n",
        "\n",
        "def evaluate_model_full(model, train_data, train_labels, test_data, test_labels, history, modelname):\n",
        "  print(f\"Evaluating Model {modelname}\")\n",
        "\n",
        "  train_loss, train_acc = model.evaluate(train_data, train_labels)\n",
        "  test_loss, test_acc = model.evaluate(test_data, test_labels)\n",
        "  print(f\"Train loss: {train_loss}\\nTrain accuracy: {train_acc}\\nTest loss: {test_loss}\\nTest accuracy: {test_acc}\")\n",
        "\n",
        "  plot_history(history, f\"History of Training {modelname}\")\n",
        "\n",
        "  y_pred_test = make_predictions(model, test_data)\n",
        "  y_pred_train = make_predictions(model, train_data)\n",
        "\n",
        "  plot_confusion_matrix(test_labels, y_pred_test, class_names, \"Test-Data\", modelname)\n",
        "  plot_confusion_matrix(train_labels, y_pred_train, class_names, \"Train-Data\", modelname)\n",
        "  return\n",
        "\n",
        "def plot_random_image_with_predictions(images, predicted_labels, true_labels, class_names):\n",
        "  i = random.randint(0, min(len(images), len(predicted_labels)) - 1)\n",
        "\n",
        "  target_image = images[i]\n",
        "  predicted_label = predicted_labels[i]\n",
        "  true_label = true_labels[i]\n",
        "\n",
        "  predicted_label = class_names[predicted_label]\n",
        "  true_label = class_names[true_label]\n",
        "\n",
        "  plt.figure()\n",
        "  plt.imshow(target_image, cmap=plt.cm.binary)\n",
        "\n",
        "  if predicted_label == true_label:\n",
        "    color = \"green\"\n",
        "  else:\n",
        "    color = \"red\"\n",
        "\n",
        "  plt.title(f\"Predicted: {predicted_label}\\nTrue: {true_label}\", color=color)\n",
        "  plt.axis(False)\n",
        "  return"
      ]
    },
    {
      "cell_type": "markdown",
      "source": [
        "**Ideen zur Verbesserung der Modellleistung:**\n",
        "\n",
        "- Hinzufügen von Bild-Normalisierungsschichten (1.0 / 255.0)\n",
        "- Hinzufügen weiterer Schichten\n",
        "- Erhöhen der Anzahl der Neuronen in den Schichten\n",
        "- Dropout-Schichten verwenden\n",
        "- Erhöhen der Anzahl der Epochen\n",
        "- Verschiedene Optimierer ausprobieren\n",
        "- Lernrate erhöhen/verringern\n",
        "..."
      ],
      "metadata": {
        "id": "SQogy6RIP1gO"
      }
    },
    {
      "cell_type": "code",
      "source": [
        "# Zelle mit deinem Modell: Kopiere diese Zelle, passe dein Modell an und vergiss nicht, deine Variablennamen umzubenennen. :)\n",
        "\n",
        "model_1 = tf.keras.Sequential([\n",
        "    tf.keras.layers.Flatten(input_shape=(28,28)),\n",
        "    tf.keras.layers.Dense(4, activation=\"relu\"),\n",
        "    tf.keras.layers.Dense(4, activation=\"relu\"),\n",
        "    tf.keras.layers.Dense(len(class_names), activation=\"softmax\")\n",
        "])\n",
        "\n",
        "model_1.compile(\n",
        "    loss=tf.keras.losses.SparseCategoricalCrossentropy(),\n",
        "    optimizer=tf.keras.optimizers.Adam(learning_rate=0.001),\n",
        "    metrics=[\"accuracy\"]\n",
        ")\n",
        "\n",
        "model_1_history = model_1.fit(train_data, train_labels, epochs=20, validation_data=(test_data,test_labels))"
      ],
      "metadata": {
        "id": "Isn4FjH2JGu2"
      },
      "execution_count": null,
      "outputs": []
    },
    {
      "cell_type": "code",
      "source": [
        "# Rufe diese Funktion auf, um alle erforderlichen Modellmetriken zu erhalten. Kopiere sie unter deinen Modellcode.\n",
        "evaluate_model_full(model_1, train_data, train_labels, test_data, test_labels, model_1_history, \"model_1\")"
      ],
      "metadata": {
        "id": "6cHFSNfwPzbr"
      },
      "execution_count": null,
      "outputs": []
    },
    {
      "cell_type": "code",
      "source": [
        "# Plotte zufällige Bilder => Die Zelle kann mehrfach ausgeführt werden. Kopiere sie unter deinen Modellcode.\n",
        "\n",
        "model_1_predicted_labels = make_predictions(model_1, test_data)\n",
        "plot_random_image_with_predictions(test_data, model_1_predicted_labels, test_labels, class_names)"
      ],
      "metadata": {
        "id": "oa6RyFAvQkmw"
      },
      "execution_count": null,
      "outputs": []
    }
  ],
  "metadata": {
    "accelerator": "GPU",
    "colab": {
      "gpuType": "T4",
      "provenance": []
    },
    "kernelspec": {
      "display_name": "Python 3 (ipykernel)",
      "language": "python",
      "name": "python3"
    },
    "language_info": {
      "codemirror_mode": {
        "name": "ipython",
        "version": 3
      },
      "file_extension": ".py",
      "mimetype": "text/x-python",
      "name": "python",
      "nbconvert_exporter": "python",
      "pygments_lexer": "ipython3",
      "version": "3.10.12"
    }
  },
  "nbformat": 4,
  "nbformat_minor": 0
}